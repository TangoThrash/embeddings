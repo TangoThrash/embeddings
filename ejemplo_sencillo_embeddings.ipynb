{
 "cells": [
  {
   "cell_type": "code",
   "execution_count": 7,
   "id": "f9d72506-1ac2-43b9-94e2-71788f0e36da",
   "metadata": {},
   "outputs": [
    {
     "name": "stderr",
     "output_type": "stream",
     "text": [
      "C:\\Users\\tomas\\ML\\deep\\Lib\\site-packages\\tqdm\\auto.py:21: TqdmWarning: IProgress not found. Please update jupyter and ipywidgets. See https://ipywidgets.readthedocs.io/en/stable/user_install.html\n",
      "  from .autonotebook import tqdm as notebook_tqdm\n"
     ]
    },
    {
     "name": "stdout",
     "output_type": "stream",
     "text": [
      "WARNING:tensorflow:From C:\\Users\\tomas\\ML\\deep\\Lib\\site-packages\\tf_keras\\src\\losses.py:2976: The name tf.losses.sparse_softmax_cross_entropy is deprecated. Please use tf.compat.v1.losses.sparse_softmax_cross_entropy instead.\n",
      "\n",
      "Frase: La inteligencia artificial está transformando el mundo.\n",
      "Embedding: [-0.04948272  0.05770752 -0.00050072 -0.05088018 -0.00792877]...\n",
      "\n",
      "Frase: El aprendizaje profundo es una técnica clave en el procesamiento de lenguaje natural.\n",
      "Embedding: [ 0.01676631  0.02484792 -0.05824441 -0.01149719 -0.06505692]...\n",
      "\n",
      "Frase: ¿Cómo se generan los embeddings?\n",
      "Embedding: [ 0.00969372 -0.09212597  0.01370841  0.00419837  0.00237616]...\n",
      "\n",
      "Frase: en que consisten los embeddings y lod transformers\n",
      "Embedding: [-0.07904124 -0.04865225  0.00054112 -0.08442471  0.01466048]...\n",
      "\n",
      "Frase: La inteligencia artificial es una tecnica transformadora\n",
      "Embedding: [-0.0835342   0.01540011 -0.057212   -0.07926246 -0.05903137]...\n",
      "\n"
     ]
    }
   ],
   "source": [
    "from sentence_transformers import SentenceTransformer\n",
    "import tensorflow as tf\n",
    "\n",
    "# Cargar el modelo preentrenado para generar embeddings\n",
    "model = SentenceTransformer('all-MiniLM-L6-v2')  # Puedes elegir otro modelo según tus necesidades\n",
    "\n",
    "# Lista de frases para convertir a embeddings\n",
    "frases = [\n",
    "    \"La inteligencia artificial está transformando el mundo.\",\n",
    "    \"El aprendizaje profundo es una técnica clave en el procesamiento de lenguaje natural.\",\n",
    "    \"¿Cómo se generan los embeddings?\",\n",
    "    \"en que consisten los embeddings y lod transformers\",\n",
    "    \"La inteligencia artificial es una tecnica transformadora\"\n",
    "]\n",
    "\n",
    "# Generar embeddings para las frases\n",
    "embeddings = model.encode(frases)\n",
    "\n",
    "# Mostrar los resultados\n",
    "for i, frase in enumerate(frases):\n",
    "    print(f\"Frase: {frase}\")\n",
    "    print(f\"Embedding: {embeddings[i][:5]}...\")  # Mostrar solo los primeros valores del embedding\n",
    "    print()\n"
   ]
  },
  {
   "cell_type": "code",
   "execution_count": 8,
   "id": "8f289e2d-ffc1-44f9-9850-235fcb4131f7",
   "metadata": {},
   "outputs": [
    {
     "data": {
      "text/plain": [
       "array([ 9.69372317e-03, -9.21259746e-02,  1.37084080e-02,  4.19836957e-03,\n",
       "        2.37616268e-03,  6.95533156e-02, -2.50207819e-02, -1.87175926e-02,\n",
       "        3.62586789e-02, -5.01222946e-02,  5.18756807e-02, -1.69165898e-02,\n",
       "        4.76766983e-03,  3.06400303e-02,  1.94672979e-02,  4.29092944e-02,\n",
       "       -1.19530093e-02,  5.73895462e-02, -8.13359302e-03,  4.25100736e-02,\n",
       "        5.53366020e-02,  1.44909350e-02, -2.78168861e-02,  3.14365141e-02,\n",
       "        1.65497288e-02, -6.91203624e-02, -4.26088367e-03,  5.03181070e-02,\n",
       "        5.42864092e-02, -9.79611576e-02,  2.25144401e-02,  3.96615677e-02,\n",
       "       -6.01640670e-03,  5.00718914e-02,  5.86461974e-03,  5.95497340e-02,\n",
       "        3.59098874e-02, -3.22040319e-02, -6.50166571e-02,  1.94177800e-03,\n",
       "       -6.80586696e-02,  5.99150360e-02, -1.27734104e-02,  1.86579209e-02,\n",
       "        3.96977998e-02, -1.14578307e-01, -3.15461755e-02,  5.40043926e-04,\n",
       "       -8.87479633e-02, -1.08315069e-02, -9.27379206e-02, -5.06190099e-02,\n",
       "       -3.71532664e-02,  5.63699827e-02, -7.51277339e-03, -3.44368517e-02,\n",
       "       -4.43345075e-03, -4.12318334e-02,  7.42767379e-02,  1.29237399e-02,\n",
       "       -1.45636844e-02, -1.34143056e-02, -1.00898026e-02, -4.58287820e-03,\n",
       "       -1.78475380e-02, -1.49489744e-02, -6.68989355e-03,  7.57681727e-02,\n",
       "       -3.36725302e-02,  6.49178177e-02,  6.80609196e-02, -1.50361136e-02,\n",
       "       -5.97642548e-02,  3.11775245e-02, -2.32561883e-02,  4.09440249e-02,\n",
       "       -1.94160398e-02, -4.87566441e-02, -6.78397482e-03, -1.07145548e-01,\n",
       "        2.09657196e-02,  2.18850188e-02, -3.34399492e-02, -4.71238717e-02,\n",
       "        7.73753598e-02,  3.81080285e-02, -5.76399732e-03,  6.36161938e-02,\n",
       "       -5.78145348e-02,  6.08104691e-02, -4.13559824e-02,  1.29597988e-02,\n",
       "        6.33168849e-04,  3.37405130e-02, -1.04662441e-02, -2.09109727e-02,\n",
       "        6.81737438e-02, -3.01771499e-02,  7.81750008e-02,  2.54879706e-02,\n",
       "        4.55318242e-02,  2.28786729e-02,  1.00150950e-01, -9.11475066e-03,\n",
       "       -1.36332726e-02, -5.70565015e-02, -7.37174088e-03, -1.69154573e-02,\n",
       "       -1.28047504e-02, -4.55696285e-02, -5.66598736e-02, -7.31693953e-02,\n",
       "       -4.82131355e-02, -2.83427816e-02, -6.90308735e-02, -8.81629065e-02,\n",
       "        7.67361745e-02, -3.73148620e-02, -2.68687755e-02,  5.72754163e-03,\n",
       "        4.24528793e-02,  8.81599709e-02, -4.21921797e-02, -4.74599823e-02,\n",
       "        2.48740409e-02, -7.85228387e-02, -5.78121245e-02, -1.05414247e-33,\n",
       "        7.32723698e-02, -1.06591158e-01, -3.80138420e-02,  1.13582991e-01,\n",
       "        5.14416844e-02, -4.90157654e-05, -3.51019092e-02,  5.99670224e-02,\n",
       "       -5.30613475e-02, -2.15421226e-02, -8.37631226e-02,  7.93137997e-02,\n",
       "       -4.07483503e-02,  1.27232656e-01,  1.13992073e-01, -1.40873259e-02,\n",
       "       -4.33224551e-02, -8.98532395e-04,  2.36634873e-02, -8.21379363e-04,\n",
       "       -5.24962731e-02,  7.50698745e-02, -1.40837217e-02, -2.61556283e-02,\n",
       "       -6.82671741e-02,  6.17574006e-02,  1.43281296e-02, -1.39225513e-01,\n",
       "       -7.93634579e-02,  3.74930948e-02, -6.53052926e-02, -2.83481739e-02,\n",
       "        2.86089778e-02,  1.04242265e-02,  7.01835528e-02, -2.23430153e-02,\n",
       "        7.58796409e-02,  4.42529619e-02, -1.53106069e-02,  8.54831189e-03,\n",
       "        4.49382439e-02, -1.90230869e-02, -1.56654119e-02, -9.39666480e-03,\n",
       "        5.95173379e-03, -1.15007684e-02,  9.86654982e-02,  6.01180606e-02,\n",
       "       -2.85359856e-04, -1.23598613e-02,  4.19119420e-03, -9.53551847e-04,\n",
       "        3.50452065e-02, -8.66060704e-02,  5.92973381e-02,  9.33194626e-03,\n",
       "       -8.22877288e-02,  3.67352590e-02,  1.78288836e-02, -6.29533678e-02,\n",
       "        1.26711663e-03,  1.77741293e-02,  4.18933854e-03, -1.84639934e-02,\n",
       "       -2.29316135e-03, -4.33553942e-03,  6.19166642e-02, -2.13219784e-02,\n",
       "        1.04985423e-01,  9.70529094e-02, -6.71317056e-02, -1.40011834e-03,\n",
       "       -5.56455441e-02, -2.23191865e-02, -3.06256488e-02, -1.65852357e-03,\n",
       "       -8.48580450e-02, -2.66585462e-02, -1.14287930e-02,  6.91507384e-02,\n",
       "       -1.56364337e-01, -5.77881411e-02, -2.73869857e-02, -1.80031210e-02,\n",
       "        2.75451341e-03, -3.35211912e-03,  5.73346280e-02,  9.29496717e-03,\n",
       "        4.55365740e-02,  5.16156368e-02, -6.14515543e-02, -3.28851864e-02,\n",
       "        1.52668180e-02, -6.94664046e-02,  2.48389021e-02, -1.69562305e-33,\n",
       "       -8.92098397e-02, -2.19075643e-02, -4.20508794e-02,  7.08493218e-02,\n",
       "       -5.22522889e-02,  6.40607029e-02, -4.07813787e-02,  8.60826764e-03,\n",
       "       -1.68044001e-01, -5.19001149e-02, -1.21966206e-01, -2.80200876e-02,\n",
       "        1.11374497e-01, -6.41048998e-02, -3.58048007e-02,  9.51232575e-03,\n",
       "       -4.69630510e-02, -2.10050475e-02, -5.02051748e-02,  1.18937381e-02,\n",
       "       -8.84883478e-03,  9.90717486e-03,  8.88849646e-02,  7.59609267e-02,\n",
       "        6.67100400e-02,  6.31197542e-02,  1.23051545e-02,  5.60663864e-02,\n",
       "       -3.80823463e-02,  1.09339384e-02,  5.06871007e-02, -6.82069436e-02,\n",
       "        1.61619755e-04,  5.77178411e-03, -8.50538239e-02,  9.01438892e-02,\n",
       "        5.98671697e-02,  7.57598206e-02, -1.33859096e-02, -6.28332561e-03,\n",
       "        6.01141481e-03,  5.70164658e-02, -1.17897838e-01,  7.11766109e-02,\n",
       "       -2.96289613e-03,  4.07269225e-03, -5.79796322e-02, -7.55454078e-02,\n",
       "        6.28015622e-02, -4.76354472e-02, -1.99442985e-03, -1.03749800e-02,\n",
       "       -5.33199608e-02, -4.07116152e-02,  5.67125976e-02, -1.16356626e-01,\n",
       "       -3.82345617e-02, -6.97452649e-02,  9.07273497e-03,  2.84640342e-02,\n",
       "        3.91826667e-02, -4.24620621e-02,  1.19469676e-03, -7.25019649e-02,\n",
       "        5.51193617e-02, -2.56351493e-02, -5.23689091e-02,  3.79413851e-02,\n",
       "       -3.19268815e-02,  1.16025116e-02,  8.39495286e-02,  3.14613357e-02,\n",
       "       -2.84022447e-02,  4.83161164e-03, -2.45146193e-02, -3.96009581e-03,\n",
       "       -1.24990400e-02,  6.98175356e-02,  4.53935713e-02, -2.54561529e-02,\n",
       "        1.22338068e-02, -4.71493416e-02,  7.72828162e-02,  1.63732599e-02,\n",
       "        3.24388482e-02, -4.66358941e-03,  7.87497498e-03,  4.53647263e-02,\n",
       "        2.48848535e-02,  3.79594192e-02,  7.15976581e-02,  2.30872333e-02,\n",
       "       -9.03273970e-02,  6.88712150e-02,  1.33440341e-03, -1.89851370e-08,\n",
       "       -2.50906628e-02,  1.42591912e-02,  2.50204671e-02, -3.86540182e-02,\n",
       "       -4.05692449e-03, -5.24220951e-02, -1.17889438e-02,  8.68852660e-02,\n",
       "        7.58605893e-04,  6.25579730e-02,  4.75623757e-02, -2.06855647e-02,\n",
       "       -3.15673091e-02,  4.42856215e-02,  5.84133156e-02,  1.34054655e-02,\n",
       "        3.23226713e-02,  1.00582018e-01,  4.42900322e-03,  3.76407709e-03,\n",
       "        3.16157565e-02,  7.62716681e-02, -1.94595978e-02, -3.27282064e-02,\n",
       "       -6.89763352e-02, -2.77050566e-02, -9.26353559e-02, -2.24241465e-02,\n",
       "        5.98457493e-02, -1.34820389e-02, -1.63554903e-02,  9.12644342e-02,\n",
       "       -8.88713822e-02, -4.85870130e-02, -5.13284653e-02, -3.52724944e-03,\n",
       "       -3.28564271e-02, -4.74512056e-02, -2.73270234e-02, -6.33270368e-02,\n",
       "        7.20960721e-02, -2.38495991e-02, -3.81979868e-02, -4.00372781e-02,\n",
       "        7.74855241e-02, -6.10197484e-02,  2.33884007e-02,  3.68108787e-02,\n",
       "       -3.27916667e-02,  7.45621026e-02, -7.08456850e-04, -2.63327528e-02,\n",
       "        9.59075429e-03, -8.75629717e-04,  3.22880298e-02, -3.39009650e-02,\n",
       "        5.75214475e-02,  4.21573874e-03, -1.05680898e-02, -2.62750611e-02,\n",
       "       -4.65710983e-02,  2.99671926e-02,  1.14169113e-01, -4.66347449e-02],\n",
       "      dtype=float32)"
      ]
     },
     "execution_count": 8,
     "metadata": {},
     "output_type": "execute_result"
    }
   ],
   "source": [
    "embeddings[2]"
   ]
  },
  {
   "cell_type": "code",
   "execution_count": 9,
   "id": "b478e7d1-9c68-47ae-8451-d1d18ab1ddab",
   "metadata": {},
   "outputs": [
    {
     "name": "stdout",
     "output_type": "stream",
     "text": [
      "Matriz de similitud del coseno:\n",
      "[[1.0000001  0.47234815 0.38231775 0.39474615 0.80503994]\n",
      " [0.47234815 0.99999964 0.40248802 0.25172287 0.44661933]\n",
      " [0.38231775 0.40248802 1.0000002  0.6916104  0.31252074]\n",
      " [0.39474615 0.25172287 0.6916104  1.0000004  0.43628487]\n",
      " [0.80503994 0.44661933 0.31252074 0.43628487 1.0000005 ]]\n",
      "\n",
      "Similitud entre la frase 1 y 2: 0.47234815\n",
      "Similitud entre la frase 1 y 5: 0.80503994\n",
      "Similitud entre la frase 2 y 5: 0.44661933\n",
      "Similitud entre la frase 3 y 4: 0.6916104\n"
     ]
    }
   ],
   "source": [
    "from sklearn.metrics.pairwise import cosine_similarity\n",
    "import numpy as np\n",
    "similitudes = cosine_similarity(embeddings)\n",
    "# Mostrar los resultados\n",
    "print(\"Matriz de similitud del coseno:\")\n",
    "print(similitudes)\n",
    "\n",
    "# Interpretar similitudes para pares específicos\n",
    "print(\"\\nSimilitud entre la frase 1 y 2:\", similitudes[0][1])\n",
    "print(\"Similitud entre la frase 1 y 5:\", similitudes[0][4])\n",
    "print(\"Similitud entre la frase 2 y 5:\", similitudes[1][4])\n",
    "print(\"Similitud entre la frase 3 y 4:\", similitudes[2][3])"
   ]
  },
  {
   "cell_type": "code",
   "execution_count": 3,
   "id": "f80327a8-d00f-4a7e-9320-e074d6b93984",
   "metadata": {},
   "outputs": [
    {
     "name": "stderr",
     "output_type": "stream",
     "text": [
      "[nltk_data] Downloading package stopwords to\n",
      "[nltk_data]     C:\\Users\\tomas\\AppData\\Roaming\\nltk_data...\n",
      "[nltk_data]   Package stopwords is already up-to-date!\n"
     ]
    }
   ],
   "source": [
    "import pandas as pd\n",
    "from sklearn.feature_extraction.text import TfidfVectorizer\n",
    "from nltk.corpus import stopwords\n",
    "import nltk\n",
    "nltk.download('stopwords')\n",
    "import numpy as np"
   ]
  },
  {
   "cell_type": "code",
   "execution_count": 4,
   "id": "deb09689-5a5f-408c-a355-b7f3f8c9e544",
   "metadata": {},
   "outputs": [
    {
     "name": "stderr",
     "output_type": "stream",
     "text": [
      "<>:1: SyntaxWarning: invalid escape sequence '\\M'\n",
      "<>:2: SyntaxWarning: invalid escape sequence '\\|'\n",
      "<>:1: SyntaxWarning: invalid escape sequence '\\M'\n",
      "<>:2: SyntaxWarning: invalid escape sequence '\\|'\n",
      "C:\\Users\\tomas\\AppData\\Local\\Temp\\ipykernel_26016\\2050642239.py:1: SyntaxWarning: invalid escape sequence '\\M'\n",
      "  path='C:\\\\Users\\\\tomas\\ML\\\\env1\\\\data\\\\reviews_filmaffinity.csv'\n",
      "C:\\Users\\tomas\\AppData\\Local\\Temp\\ipykernel_26016\\2050642239.py:2: SyntaxWarning: invalid escape sequence '\\|'\n",
      "  df2 = pd.read_table(path, sep='\\|\\|', header=0, engine='python')\n"
     ]
    },
    {
     "data": {
      "text/html": [
       "<div>\n",
       "<style scoped>\n",
       "    .dataframe tbody tr th:only-of-type {\n",
       "        vertical-align: middle;\n",
       "    }\n",
       "\n",
       "    .dataframe tbody tr th {\n",
       "        vertical-align: top;\n",
       "    }\n",
       "\n",
       "    .dataframe thead th {\n",
       "        text-align: right;\n",
       "    }\n",
       "</style>\n",
       "<table border=\"1\" class=\"dataframe\">\n",
       "  <thead>\n",
       "    <tr style=\"text-align: right;\">\n",
       "      <th></th>\n",
       "      <th>film_name</th>\n",
       "      <th>gender</th>\n",
       "      <th>film_avg_rate</th>\n",
       "      <th>review_rate</th>\n",
       "      <th>review_title</th>\n",
       "      <th>review_text</th>\n",
       "    </tr>\n",
       "  </thead>\n",
       "  <tbody>\n",
       "    <tr>\n",
       "      <th>8471</th>\n",
       "      <td>La isla mínima</td>\n",
       "      <td>Cine negro</td>\n",
       "      <td>7,2</td>\n",
       "      <td>6.0</td>\n",
       "      <td>Sé lo que hicisteis...</td>\n",
       "      <td>La isla mínima es un thriller policíaco ambien...</td>\n",
       "    </tr>\n",
       "    <tr>\n",
       "      <th>8192</th>\n",
       "      <td>La isla mínima</td>\n",
       "      <td>Cine negro</td>\n",
       "      <td>7,2</td>\n",
       "      <td>8.0</td>\n",
       "      <td>A vista de pájaro: los escollos de extirpar la...</td>\n",
       "      <td>Dar con el tono adecuado es siempre lo más dif...</td>\n",
       "    </tr>\n",
       "    <tr>\n",
       "      <th>347</th>\n",
       "      <td>Ocho apellidos vascos</td>\n",
       "      <td>Comedia</td>\n",
       "      <td>6,0</td>\n",
       "      <td>5.0</td>\n",
       "      <td>COMEDIA DECEPCIONANTE</td>\n",
       "      <td>Cinta con demasiada crítica positiva antes de ...</td>\n",
       "    </tr>\n",
       "    <tr>\n",
       "      <th>4124</th>\n",
       "      <td>Celda 211</td>\n",
       "      <td>Thriller</td>\n",
       "      <td>7,7</td>\n",
       "      <td>9.0</td>\n",
       "      <td>Escalofriante en todos los sentidos.</td>\n",
       "      <td>Hay algo más allá de las rejas de “Celda 211”,...</td>\n",
       "    </tr>\n",
       "    <tr>\n",
       "      <th>1601</th>\n",
       "      <td>Torrente 2: Misión en Marbella</td>\n",
       "      <td>Comedia</td>\n",
       "      <td>5,3</td>\n",
       "      <td>5.0</td>\n",
       "      <td>Tolerable segunda parte</td>\n",
       "      <td>Simpática secuela del taquillazo Torrente, en ...</td>\n",
       "    </tr>\n",
       "  </tbody>\n",
       "</table>\n",
       "</div>"
      ],
      "text/plain": [
       "                           film_name      gender film_avg_rate  review_rate  \\\n",
       "8471                  La isla mínima  Cine negro           7,2          6.0   \n",
       "8192                  La isla mínima  Cine negro           7,2          8.0   \n",
       "347            Ocho apellidos vascos     Comedia           6,0          5.0   \n",
       "4124                       Celda 211    Thriller           7,7          9.0   \n",
       "1601  Torrente 2: Misión en Marbella     Comedia           5,3          5.0   \n",
       "\n",
       "                                           review_title  \\\n",
       "8471                             Sé lo que hicisteis...   \n",
       "8192  A vista de pájaro: los escollos de extirpar la...   \n",
       "347                               COMEDIA DECEPCIONANTE   \n",
       "4124               Escalofriante en todos los sentidos.   \n",
       "1601                            Tolerable segunda parte   \n",
       "\n",
       "                                            review_text  \n",
       "8471  La isla mínima es un thriller policíaco ambien...  \n",
       "8192  Dar con el tono adecuado es siempre lo más dif...  \n",
       "347   Cinta con demasiada crítica positiva antes de ...  \n",
       "4124  Hay algo más allá de las rejas de “Celda 211”,...  \n",
       "1601  Simpática secuela del taquillazo Torrente, en ...  "
      ]
     },
     "execution_count": 4,
     "metadata": {},
     "output_type": "execute_result"
    }
   ],
   "source": [
    "path='C:\\\\Users\\\\tomas\\ML\\\\env1\\\\data\\\\reviews_filmaffinity.csv'\n",
    "df2 = pd.read_table(path, sep='\\|\\|', header=0, engine='python')\n",
    "df2.sample(5)"
   ]
  },
  {
   "cell_type": "code",
   "execution_count": 6,
   "id": "29c7fa66-a415-4e99-8e45-fe63d5c3b282",
   "metadata": {},
   "outputs": [
    {
     "data": {
      "text/plain": [
       "film_name        36\n",
       "gender           36\n",
       "film_avg_rate    36\n",
       "review_rate      36\n",
       "review_title     36\n",
       "review_text      36\n",
       "dtype: int64"
      ]
     },
     "execution_count": 6,
     "metadata": {},
     "output_type": "execute_result"
    }
   ],
   "source": [
    "df3=df2[df2['film_name']=='Tadeo Jones 2']\n",
    "df3.count()"
   ]
  },
  {
   "cell_type": "code",
   "execution_count": 15,
   "id": "61f2b7d7-0b9f-4261-a06e-dd588408eb02",
   "metadata": {},
   "outputs": [
    {
     "data": {
      "text/plain": [
       "['\"¿Qué es eso que me llama este señor de gitanilla?\" Momia.Con cinco años desde la primera entrega, \"Las aventuras de Tadeo Jones\", Enrique Gato nos trae de nuevo al albañil arqueólogo en una de sus aventuras infantiles. Para analizar una película como \"Tadeo Jones 2: El tesoro del Rey Midas\" no puede limitarse uno a un análisis intrínseco: esta película es española, y como tal ha tenido más dificultades para existir que una película nacida en Pixar, DreamWorks o cualquier compañía similar.La historia nos devuelve a la mayoría de los personajes de la primera entrega, a excepción del vendedor ambulante a quien ponía voz José Mota. Un taxista andaluz ha sido la elección para sustituirlo.El resto todos siguen como estaban, no es una película que vaya a destacar especialmente por su desarrollo de personajes: Tadeo y Sara siguen como en la anterior con ese pequeña subtrama romántica a la que se nota que quieren dar más calado, la incorporación del taxista es acertada y hay un descubrimiento en el personaje de Momia: un secundario que verdaderamente trae un muy logrado sentido del humor a una cinta que sin duda no sería lo mismo sin él.El lado más superficial es ese personaje femenino cuyo desarrollo es muy previsible, y un villano bastante genérico cuya única virtud es llamarse Rackham (¿pudiera ser una referencia a Tintín?) y servir de instrumento para hacer avanzar la trama.Lo verdaderamente importante es que \"El secreto del Rey Midas\" muestra por parte de todos los involucrados un deseo de superar en todo lo posible a su antecesora: la animación es notablemente mejor, se ve con solo recordar la primera entrega (la escena de Las Vegas y el casino tiene un uso de la luz muy bueno); la banda sonora es más adecuada a las escenas y se abandona (y se agradece) el usar una y otra vez canciones del momento, usándose solo una en una escena que está bastante lograda; además, el guión está más encauzado en cuanto a la acción, siempre usando un MacGuffin (el cuaderno, las partes del colgante...) que llega satisfactoriamente a su final.El sentido del humor, como ya adelantaba, es mucho mejor que en la primera película, siendo los momentos más divertidos los protagonizados por Momia, que hicieron que incluso los adultos soltaran más de una carcajada.Por otro lado, los niños son el principal objetivo por lo que el humor tontorrón se da por sentado, y sí, se ríen y se lo pasan bien. Y estoy hablando de críos muy pequeños, que se han estado muy callados (increíble, pero cierto) con los escasos 90 minutos de película, una duración que, por otro lado, es muy acertada.Y es que en ese tiempo cabe todo lo que una película como esta necesita, que hace un sorprendente énfasis en los estereotipos españoles, tratados con gracia y sencillez, así como ciertos lugares que es agradable ver en pantalla grande y en animación, como el pasaje en Granada.¿Qué le falta? Una única cosa: la emotividad. El cine de animación nos ha dado joyas como \"Inside out (Del revés)\", \"Ratatouille\", \"Como entrenar a tu dragón\"... Todas consiguen conectar con el espectador de una manera mucho más fuerte que esta \"El secreto del Rey Midas\", que se lo juega todo a ser simpática y agradable y realmente lo consigue, pero se queda ahí. Le falta ese impulso, esa unión con el espectador para la que, creo yo, haría falta arriesgarse con un guión más profundo. Son perfectamente capaces de ello, y ya nos da una muestra el tramo final que consigue una de las mejores escenas de la película, o la mejor, pero que por no darle la importancia que merece, queda algo por debajo de lo que podría haber sido.En cualquier caso, \"Tadeo Jones 2: El secreto del Rey Midas\" es una digna película que cumple la regla no escrita de toda secuela que se precie: superar a la original. Tenemos mejor animación, música, personajes y ritmo, y un sentido del humor mucho más logrado y trabajado. Siendo un proyecto normal de una compañía adinerada que produjera una o incluso más películas anualmente con proyección internacional podría considerarse un entretenimiento simplón, y en realidad lo es por esa falta de profundidad que tiene en pos de más ligereza, pero hay que tener en cuenta dónde se ha hecho, que ha tenido más obstáculos que la mayoría y el muy alto grado de calidad que ha conseguido. Para mí es otro paso adelante, a la espera de una película que realmente deslumbre.',\n",
       " 'l simpático aventurero de producción española da un salto de calidad con una secuela que mejora sustancialmente la primera parte a nivel visual, con una animación más elaborada y detallada, y que también ofrece una historia mucho más divertida y con mejor ritmo en localizaciones tanto exóticas como cercanas.A todo esto hay que sumarle el cambio de secundario chistoso, que esta vez recae en el personaje de \"La Momia\", quien da más juego y tiene más gracia que su predecesor. En definitiva, el director Enrique Gato y su equipo demuestran que aún tienen mucho que contar sobre este aprendiz de arqueólogo y que son capaces de seguir mejorando en el modo de hacerlo. Más mini críticas en cinedepatio.com',\n",
       " 'Creo que no me divertía tanto en una sala de cine viendo una película de animación desde \"Zootrópolis\" (2016) y a mi alrededor la chiquillada, mi hijo incluído, no paraba de aplaudir al final de la proyección.Hace cinco años (cómo pasa el tiempo),que se estrenó \"Tadeo Jones\" en estas mismas fechas y el paso del tiempo le ha sentado muy bien al personaje y al equipo técnico. Y si la primera película de las aventuras de este Indiana Jones chapuzas me gustó bastante, esta segunda parte me ha gustado todavía más. A resaltar un sobresaliente apartado técnico, una cuidada ambientación (magnífica la recreación de la Alhambra de Granada y de la calle Carrera del Darro) y un guión simple (encontrar un tesoro y rescatar a la chica) pero bien resuelto y entretenido.Y si en la primera película la clara fuente de inspiración era, como ya he dicho, Indiana Jones, en esta ocasión se nota que a los creadores de la película les encantan los videojuegos de la saga \"Uncharted\", de la PS4, pues Tadeo se muta en un Nathan Drake de andar por casa que incluso tiene cuaderno de pistas y todo ¡Si hasta hay un recorrido en todoterreno por un gran espacio abierto como en la cuarta entrega! Por un momento pensaba que aparecería Sully con uno de sus puros apestosos detrás de cualquier esquina o que se liaría a tiros con un batallón de mercenarios. Pero no, estamos, hay que recordarlo, ante una película dirigida a los peques de la casa y hay que cuidar las formas.Mención especial al personaje \"Momia\", que ya aparecía en la primera entrega y que se come la pantalla cada vez que sale, dejando en pañales humorísticos al pájaro Belzoni y a sus cartelitos. Y atentos a la magnífica escena de la persecución en taxi y motos por las calles de Granada, de lo mejor visto en bastante tiempo en animación.Por supuesto, están presentes todos los topicazos españoles sobre la paella, el flamenco y demás... No olvidemos que estamos ante un producto español que va a tratar de triunfar en mercados anglosajones. Y desde luego no tiene nada que envidiar a muchas producciones procedentes de EEUU, pues la animación española es de gran calidad (véase \"Mortadelo y Filemón contra Jimmy el Cachondo\", por ejemplo).No me enrollo más: cojan a los críos y vayan a verla, porque se lo pasarán muy bien y así tendrán un magnífico fin de vacaciones.',\n",
       " 'Es una excelente noticia que Tadeo Jones sea un éxito y que haya animación de este nivel en España, y seguro que tendrá tercera entrega dentro de unos años, pero El secreto del Rey Midas no es tan buena noticia como cabía esperar.La animación ha mejorado, desde luego, como se aprecia no sólo en la espectacular recreación de Granada, sino también en el pelo y los rasgos de Sara, que era de las peores cosas de la primera película, pero el guión es plomizo y simplón. Sencillamente, la historia no da para mucho. Entretiene, sí, y tiene puntos divertidos, pero no funciona más allá de ser un pequeño entretenimiento para familias. Lastra también al conjunto el excesivo protagonismo de la momia, que era muy divertida en la primera película como personaje secundario, pero termina cansando un poco en esta, y además quita minutos a Jeff y Belzoni. Y no deja de ser curioso que una película española contribuya tan descaradamente a perpetuar los tópicos sobre España y sobre Andalucía concretamente...Correcta, simpática, sin nada ofensivo, pero muy inferior a su excelente predecesora.Lo mejor: La animación, muy mejorada respecto a la primera parte, y su enorme simpatía.Lo peor: Es mucho más débil a nivel de historia y se nota ya cierto agotamiento de la fórmula.',\n",
       " '1- Lo mejor que se puede decir de esta película es que es entretenida. Que ya es bastante. No pretende ser ninguna joya del género, ni competir con Pixar ni Miyazaki. Va a entretener a todos con una aventura sencilla y simple. Es al mismo tiempo su punto fuerte y su debilidad.2- Lo peor es lo infantil y poco frescos que resultan sus personajes, especialmente la Momia (aunque tiene algún momentillo destacable), y también sus gags y sus diálogos. Vale que la historia es sencilla, pero por favor, dejad que nuestros cerebros hagan algo.3- La animación española mejora a cuentagotas. Aunque nos encontremos de vez en cuando con alguna cosa chula y bien hecha, todavía nos faltan auténticas joyas. Tadeo Jones es correcta a nivel técnico: buena animación, usan bien las texturas, el movimiento es natural y logrado....Pero fallan a nivel artístico. Utilizan un estilo muy poco vistoso y nada efectivo, al menos no más que cualquier capítulo de una serie de Netflix. Y no creo que ayude el diseño de personajes, vestuario o entornos urbanos. Con la visita a Granada tenían un filón que a mi parecer no han aprovechado.Correcta técnicamente, pero sin alma.4-Tadeo Jones es un personaje cercano, pero los verdaderos protagonistas siempre son otros. Momia, Sara, el malo, etc etc....Tiene poca fuerza y poca presencia. Pensadlo. ¿Cuantas características podríamos sacar de este personaje? Sabemos que es bueno, y que le gustan una chica y la arqueología. Bueno, no se, algo más de profundidad por favor. Es animación, no cine para inválidos cerebrales.5-Me gustaría destacar el buen trabajo en el doblaje, especialmente el de la Momia. Y también la banda sonora, que me ha parecido correcta....aunque le falta un poco de rock and roll....como a toda la peli...',\n",
       " 'Ahora que han pasado cinco años desde el estreno de \"Las aventuras de Tadeo Jones\", no he podido evitar darme cuenta de que se han tomado su tiempo, y no sin razón. Porque, chicas y chicos, esta secuela es más y mejor. La espera ha valido la pena.El personaje de Tadeo Jones es un arqueólogo vallisoletano que vive en Estados Unidos, y fue creado por Enrique Gato para protagonizar varios cortometrajes de aventuras.Como dichos cortometrajes fueron bastante exitosos, en 2012 decidió llevarlo al cine dándole su propio largometraje.Yo fui a ver la película en su día y me gustó muchísimo. Me pareció una película muy bonita, muy entretenida y muy adecuada para toda la familia. La verdad es que es una película a la que no le vi prácticamente fallos, y yo como español, me sentí muy orgulloso al darme cuenta de que en mi país se puede hacer buen cine de animación.Y esta secuela no lo es menos, la animación es mucho mejor, la historia es más trepidante, los personajes se mantienen fieles a sus bases, pero también evolucionan, y la banda sonora de Zacarías Martínez de la Riva es muy bonita y acompaña perfectamente la acción de la película. También me gusta mucho la canción \"Todo es posible\" que en una escena cantan David Bisbal y Tini Stoessel.En especial me sorprendió que David Bisbal participase en esta película. Porque lo mismo le escuchas cantar en \"Torrente 4\" que en una película como ésta.Me reitero en el tema de la animación. Cuando vi la primera película, me pareció una animación bastante buena, pero nunca la hubiera comparado con la de películas como las de los estudios Pixar. Sin embargo, con esta secuela sí me atrevo a compararla con películas de Pixar o incluso con algunas de Disney.Y esto lo digo especialmente por la textura capilar, fijaos mucho en esos detalles. Fijaos en el pelo de Tadeo, en su cara de llevar dos días sin afeitarse, y sobre todo fijaos en Sara y en Tiffany. O lo que a mí más me llamó la atención; la perilla del villano. Ésto es todo lo que voy a decir sin comentar spoilers, así que os dejo con mi calificación de la película; por mi parte se lleva un 7,5 sobre 10.Si la primera os gustó, ésta es de visionado obligatorio. Id a verla, os aseguro que es una maravillosa y entrañable aventura absolutamente recomendable para toda la familia.',\n",
       " 'Me ha parecido superior en casi todos los aspectos a la primera entrega, desde los personajes que en esta ocasión los encuentro mas carismáticos hasta la animación mucho mas trabajada y detallada que en la primera entrega pasando por un argumento que recupera el espíritu clásico de cine de aventuras ofreciendo buenas escenas de exploración acompañaras de grandes dosis de acción y humor.Me ha gustado también ver como no se cortan con la película a la hora de matar a determinados personajes ya que siendo una película cuyo publico objetivo es principalmente el infantil no se espera uno determinadas muertes que se dan en pantalla ya sea de una manera u otra. Es mas, la escena antes de que aparezca el título de la película finaliza precisamente con un engaño traición que finaliza con la muerte de un personaje.TAmbién en esta película esta mucho mas presente que en la anterior la aventura, la exploración, el viajar a lugares desconocidos, el uso de templos inexplorados, de tumbas escondidas, etc, todo al mas puro estilo Indiana Jones dónde los personajes deben hilar un misterio detrás de otro para llegar al final de la historia y mientras tanto un camino repleto de traiciones y misterios que resolver.El humor en esta nueva entrega viene nuevamente de la mano del perro y el pájaro y por supuesto del personaje de Momia, al cual de manera ágil logran traerlo de vuelva sin que resulte forzoso su regreso. Esta también bastante bien que en esta ocasión realicen también algunos chistes un poquito mas dirigidos a los adultos.En definitiva, película altamente recomendable para pasar un muy buen rato de entretenimiento con una película que supera con creces a la primera entrega en prácticamente todos sus apartados. Mi nota final de un 7.5 sobre 10. Si siguen este rumbo establecido en la secuela por mi parte que hagan mas entregas.',\n",
       " 'Me hace dudar un poco, a mi niña le ha encantado, a mi me ha dejado a medias, un entretenimiento muy comercial y dando una imagen de España más que peculiar, aunque sea la que damos al exterior. Película que se divide en tres episodios con paisajes muy espectaculares en cada uno de ellos, para ser una producción española es mucho mas que eficiente, no lo digo porque lo español sea malo, sino que en animación no es muy frecuente verlas.Una película recomendable para verla con tus niños, algo comercial pero funcional para disfurtarla.',\n",
       " 'Me fuí a verla con mi família y nos divertimos mucho. Se me paso volando, es muy entretenida y nos reímos mucho con la momia y cuando los protagonistas llegan a Granada, esta realmente bien hecha, la animación es notable. Tenia un buen recuerdo de la primera, pero esta la supera en todo, tanto en historia, en humor, hasta ha mejorado en animación. Para pasar un buen rato en familia, buen cine de animación y encima Español. Un placer.',\n",
       " 'La historia tiene cierto interés y cierto brío, pero flojean los gags de humor y los diálogos.Algunos niños del cine dijeron que algunas escenas les daban miedo. A mi hija no le interesó demasiado la película.',\n",
       " 'Hola, ayer ví la película y me reí un montón, el personaje de la momia está muy conseguido, la verdad que no recuerdo reirme últimamente tanto con una película de animación. En cuanto al guión un tanto simple por eso le doy un 6. Una cosa que no me gustó es que siendo una película española los personajes \"hablaran\" en inglés, me explico, que las bocas de las animaciones por ejemplo al decir te quiero se movieran formando un I love you. Otro personaje que destacaría es el taxista andaluz, muy gracioso, y el pajarillo también tiene sus puntos. Saludos!',\n",
       " 'En base a la primera película, han mejorado, los cinco años de espera han sido un provecho. Pese a que a Tadeo, el personaje principal es español, la película se ambienta incialmente en Chicago, pasando por varias localizaciones. En \"Tadeo Jones 2: El secreto del Rey Midas\" le veremos por primera vez pisar España. Concretamente, Tadeo visitará la ciudad de Granada. Los responsables de la película recrearon al milímetro los escenarios de la ciudad andaluza sin siquiera tener que moverse del estudio, todo esto viene de mano de tecnologías, como hoy en día nos permiten plataformas como Google Maps.La película, dirigida por Enrique Gato, ha mostrado que desde España se pueden producir largometrajes de animación a la altura del estándar de calidad internacional.En esta secuela se saca mucho más partido de la Momia, que conocimos en la anterior como secundario cómico. ¿Qué le falta? En mi opinión emotividad.Pero bueno, \"Tadeo Jones 2: El secreto del Rey Midas\" es una digna película. Esta, cumple una regla no escrita de una buena secuela: mejorar a la original. Pues se superan en animación, música, personajes y ritmo, y lo más notable, un sentido del humor mucho más logrado y trabajado.',\n",
       " 'La película de animación más exitosa del cine español tenía que tener una segunda parte sí o sí.\"Mediaset\" es una máquina rompetaquillas en nuestro país. Da la sensación de que emplean más esfuerzo y trabajo en la promoción que en hacer sus producciones. Pero, ¿está a la altura del bombo y platillo brutal que le han dado?Pues lo cierto es que a nivel de entretenimiento y diversión está más o menos al mismo nivel de la primera.Sí noto mejoría respecto a la infografía, con personajes y escenarios mucho más cuidados y trabajados. Se nota que han contado con más medios y presupuesto.De los personajes, la momia no me convence. Es el típico bufón que se vuelve cargante y pesado. Prefiero al loro y al perro, con ellos me río mucho más. Otro que es bastante gracioso es el taxista granadino. Aunque el humor es ligero y no sobrecarga la película, además hará las delicias de los niños.Transcurre en varios lugares del mundo, al igual que las grandes producciones de aventuras. La parte de Las Vegas es entretenida, pero lo que más me ha gustado es Granada. Ya es hora de que el cine español se enorgullezca de nuestro patrimonio y recree un lugar tan especial como es la Alhambra. La persecución que transcurre ahí es muy dinámica y está muy conseguida.Además, el film tiene muchos guiños al héroe que inspira a Tadeo, como es Indiana Jones. Se nota en el agarre del sombrero en el último momento, el diario (que recuerda al del padre de Indy), y las vistas del avión con el mapa.Es divertida y fácil de ver. Se pasa muy rápido y cumple las expectativas (las mías, no las de \"Mediaset\"). Este consorcio de cadenas de televisión debería ser menos cansino con la publicidad y no dar una noticia en el telediario cada vez que una de sus películas logra rascar 100.000 euros más en taquilla. Son tan pesados que logran en mí el efecto contrario y me quitan las ganas de pagar por ver sus producciones. ¡Cansinos! Parece que no se dan cuenta de que sus producciones son lo suficientemente buenas para que se vendan solas.',\n",
       " 'Muchas aventuras de lo más divertidas con personajes muy entrañables, como el taxista gitano de \"Graná\" y por supuesto la super carismática momia. También tiene frases homenaje sobre típicas cosas de España y situaciones muy graciosas. Me ha parecido bastante mejor que la primera, además que creo que aquella era casi exclusivamente diirigida hacia el público infantil, mientras ésta la veo más para todos los públicos.Muy divertida e ideal para disfrutar en familia.',\n",
       " 'La verdad que valorar esta película o su predecesora en un universo en el que convive con las joyas creadas por Pixar o por Ghibli es hacerle un flaco favor. Porque es comparar un Rolls Royce con un Seat 600.Pero por increíble que parezca a veces los Seiscientos tienen su encanto y se ganan el cariño del público.Lo primero que hay que decir de esta peli es que en España el cine de animación es básicamente una industria residual. Se podrían contar con los dedos de una mano los proyectos sacados adelante en los últimos 5 años.Y esta claro que iniciar el camino desde esa minúscula industria de la animación española es un gran peso que lastra (o amenaza con lastrar) cualquier producto creado dentro de nuestras fronteras.Por ello hay que valorar Tadeo2, su predecesora y cualquier otro producto de animación español, desde el prisma de nuestras reducidas capacidades.Por ello Tadeo Jones 2 es una buena muestra del camino que se debe llevar para ir creciendo paso a paso en esta industria, lo que permitirá dentro de más tiempo del deseado que España en vez de andar, corra.Tadeo 2 da al espectador lo que desea ver:- Una historia amena y familiar.- Un diseño gráfico cumplidor, e incluso en algunas partes, muy interesante.- Unos personajes que a pesar de ser un poco simplones, e incluso alguno que otro algo estereotipado, consiguen llegar al corazón del espectador.Para mi esta saga de películas es la conversión animada de la saga fílmica de Indiana Jones, y la saga gamer de Uncharted, pero vista desde el humor y la retranca españolas.Sinceramente no son un producto de 10, pero al menos no son un producto de un 0. Yo les pido que cumplan y se superen película a película, y en eso Tadeo Jones 2 cumple con creces.',\n",
       " 'No hay porque criticar el cine español por ser español. De igual modo no hay que ensalzarlo porque sí.Esta película no es buena. No lo es el diseño gráfico y mucho menos el guión. El guión no es cosa de presupuesto. Puedes tener una historia excelente que contar y unos gráficos malos por falta de financiación, pero no es el caso. Los chistes son super fáciles y absurdos, todo lleno de tópicos.Una película de animación puede contar historias increibles como ya lo hizo Toy Story, Wall.e, Up, Nemo...Tadeo Jones (ni la primera ni esta segunda) tiene nada de excepcional',\n",
       " 'Tadeo Jones viaja hasta Las Vegas para asistir a la presentación del último descubrimiento de la arqueóloga Sara Lavroff: el papiro que demuestra la existencia del Collar de Midas, el mítico Rey que convertía en oro todo aquello que tocaba. Pero el feliz reencuentro se verá enturbiado cuando un malvado ricachón secuestra a Sara para poder encontrar el talismán y conseguir riquezas infinitas. Junto a sus amigos el loro Belzoni y su perro Jeff, Tadeo tendrá que hacer uso de su ingenio para rescatar a Sara, en un viaje por medio mundo, donde encontrará nuevos amigos ¡y nuevos villanos!En esta producción española vuelve Tadeo para una aventura mucho más grande que el anterior. La película pasada la había encontrado algunas veces en televisión, por ejemplo en Cartoon Network o Disney XD, y me parecía muy entretenida. Aunque nunca la vi completa la entendí y tenía algo de ideas. Así que el viernes, después de la decepción de La Cura Mortal, fui a la función de las 18 hs. En este caso viene con doblaje mexicano. En otros países tiene el doblaje original (España) y Colombia. Y aparte con una nominación a los Premios Goya a mejor película de animación.La proyección se demoro unos 10 minutos porque había problemas con la pantalla. Pero se soluciono empezando unos 81 minutos de pura diversión que me hizo olvidar la decepción del jueves.Está bien, no es perfecta. Tiene sus clichés, pero se te pasa tan rápido que los dejas de lado.Primero, esta bellamente animado, supero a su antecesora. Nuevamente dirigido por Enrique Gato en colaboración con David Alonso realizan una dirección muy buena con muy buenos ambientes.El guion es muy llevadero, muy entretenido, con diálogos súper graciosos. No puedo decir que supere al anterior porque no la vi completa.Los personajes son carismáticos. Primero tenemos a Tadeo Jones (obviamente es una referencia a Indiana Jones) que es un inteligente como siempre tratando de conquistar a Sara. Pepe Toño Macías le dio una voz precisa y muy bien elegida, es uno de mis dobladores favoritos.Todos los demás están bien, pero el que se lleva la corona es Adrian Uribe como Momia. Es tan gracioso su personaje que te sacas muchas carcajadas. Nunca tiene una escena seria y no es un personaje que sea pesado e insoportable.Como dije más atrás no es perfecta, por ejemplo la música no fue memorable y la trama puede ser repetitiva y predecible. Pero no me importo cuando lo miraba, lo estaba disfrutando y los niños que fueron a verla también.En resumen, Tadeo Jones 2: El Secreto Del Rey Midas cumplió su cometido: entretener. La pase súper viéndolo. Los personajes, la dirección, la animación, el guion todo está bien hecho. No está a la altura de Coco pero te la pasas súper.Le doy el pulgar arriba y le recomiendo a la familia que vallan a verla la pasaran… súper. No se arrepentirán. Nota: 7/10Verde, Pulgar Arriba.',\n",
       " 'Lo han vuelto a lograr. Entretenimiento patrio sin nada que envidiar a las productoras americanas. Esta segunda parte pierde en frescura, chispa o sorpresa original, pero gana en una animación más elaborada, un ritmo más conseguido y unos personajes mejor caracterizados. Totalmente compensado.Una obra para toda la familia. Una película con un humor natural y una duración muy atinada. Espectáculo de nivel, algo precocinado, pero que no lo quita merito final. A un paso de la genialidad. Quizás en una tercera parte.',\n",
       " 'Tadeo viaja a Las Vegas para asistir a la muestra del último descubrimiento de su amiga Sara Lavrof, la mejor arqueóloga del momento: un papiro que afirma que existe el Collar de Midas, el misterioso Rey que convertía en Oro todo lo que tocaba. Los dos se verán envueltos en una gran aventura hasta dar con el lugar dónde se encuentra escondido el Tesoro. Tadeo, acompañado de su inseparable perro Jeff, de la profesora y arqueóloga Sara Lavroff, del loro Belzoni, de Momia, y de unos cuantos malos, vivirá emocionantes aventuras que jamás hubiera imaginado.Por una vez las segundas partes SÍ que son buenas, en este caso, buenísima. Esta película es mucho mejor y más divertida que la primera. Destacando algunas cosillas como:– Mejor historia. Más atractiva, con más gancho y más atrayente.– Evolución de todos los personajes a mejor. Tadeo y Sara.– Animación impecable. Se nota que los 5 años que pasan entre una película y otra, han dado sus frutos y se aprecia la forma en que han mimado cada plano, dando movimientos más realistas a sus personajes.– Clara influencia en las películas de Disney y en cómo contar la historia. Por ejemplo, con las pequeñas animaciones en 2D que aparecen para contar la historia del Rey Midas, recurso muy frecuente en los filmes de la factoría del Ratón. Y en los personajillos que siempre acompañan a los protagonistas (el loro y el perro) que consiguen sacarle una sonrisa y hechizar al espectador con sus “locurillas”. En esta ocasión, les han dado más protagonismo y ha sido un acierto.– Las personajes secundarios (buenos y malos) más divertidos, graciosos, encantadores, malvados y canallas. El taxista de Granada, Tiffany Maze, Jack Rackham y su ayudante (la señora “Total Pro“) y la mención especial a la Momia. Para mí lo mejor de toda la película. Y para hacerlo más redondo, no han podido ponerle otra voz mejor en el doblaje: la voz en español de Johnny Depp, Leonardo DiCaprio y Jim Carrey, el actor de doblaje Luis Posada.– La Alhambra de Granada y la ciudad de Granada. Es espectacular la forma que han recreado ambas localizaciones. Se reconocen perfectamente y se pueden distinguir completamente cada calle de la ciudad. Es impecable.Y otro cosilla que también me gustó bastante fue la canción principal de la película. “Invencible” interpretada por David Bisbal y Tini Stoessel. Personalmente no me gustan estos cantantes (en particular Bisbal) aunque los respeto, pero siempre hay excepciones y en esta ocasión, para mi asombro, se ha dado. Me parece una canción muy bonita y acorde con una película que va dirigida a los niños. El mensaje de la canción es positivo y anima a que nunca te rindas para conseguir tus metas aunque tus miedos se interpongan en tu camino.Desde aquí animo a todo el mundo que vea la película. Se lo van a pasar en grande y se van a divertir un montón con las aventuras de Tadeo y sus amigos.Mi valoración 9/10retalesdeacetato.wordpress.com',\n",
       " 'La animación sigue siendo la gallina de los huevos de oro o el rey Midas ya puestos, en el depauperado mundo de las salas cinematográficas. España no es una excepción y cuenta con magníficos\\xa0profesionales en ese campo que como en otros, tienen que buscarse las lentejas en otros países\\xa0donde haya industria al respecto. En este nicho limitado y a rebufo de la animación comercial USA, gentes como Jorge Blanco con \"Planet 51\" (2009) o Enrique Gato están encontrando su camino con premios y taquilla incluida. En el otro lado de fondo y forma tenemos la sobresaliente aportación de Alberto Vázquez y sus Psiconautas, con Pedro Rivero.Tadeo y sus amigos y enemigos vuelven en una cinta para toda la familia o mejor dicho para la familia en exclusiva. No creo que adultos separados de los niños la valoren igual. Esta nueva aventura, carece de la sorpresa y la frescura de su primera entrega. Dicen los que saben que técnicamente es mejor y comparto la opinión de Alberto Luchini en El Mundo: \"...un producto excesivamente cerebral y precocinado...\".\\xa0 Con más de un ojo añadiría\\xa0yo, puesto en la mercadotecnia. Lo que en la primera eran referencias ahora se me antojan demasiado dependientes de otros personajes famosos y aventuras ya muy trilladas al igual que las \"set-pieces\" . La fórmula\\xa0parece funcionar en automático y la inclusión del guionista David Alonso como co-director da la sensación de anclar al personaje y sus aventuras más en el campo del videojuego\\xa0que de la pantalla grande.Con todo y sin olvidar y valorar el ingente trabajo que supone este tipo de producciones los personajes siguen manteniendo su carisma en espera de que antes de otros cinco años sigan haciendo de las suyas.cineziete.wordpress.com',\n",
       " 'El gran exitazo comercial de LAS AVENTURAS DE TADEO JONES, no podía sino traer la consabida secuela que aquí nos llega de nuevo en las manos de su creador ENRIQUE GATO, al alimón en esta ocasión con DAVID ALONSO, reincidiendo en las aventuras de este estudiante y amante de la arqueología.No nos deja esta película ni un minuto de respiro, y todo sucede a gran ritmo con una acción trepidante destacando las que se desarrollan en GRANADA, y en sus bellos parajes, incluyendo esa visita a LA ALHAMBRA, que nos dejara a todos boquiabiertos por lo bien que esta logrado y en los sucesivos viajes por diferentes localizaciones, haciendo muchos guiños a diferentes cintas .Es de agradecer que el poco explotado genero de los dibujos animados en nuestro país, se vaya poco a poco consolidando incluso compitiendo de tu a tu con producciones del otro lado del charco, y sin tener que por ello perder en calidad y en historias interesantes.Nuestro INDIANA JONES español, es el centro sobre el que gira toda la epopeya en que se ve envuelto junto a su inseparable amiga SARA LAVROFF, y una nueva ayudante de esta, el malo de la función hace un guiño a las novelas de TINTIN, con nombre RAKHAM, y junto a los animales que aportan las necesarias dosis de humor logran hacer un conjunto muy atractivo y disfrutable.La momia aquí cobra mas protagonismo que en la primera y es el elemento sobre el que se quiere dar esa nota mas graciosa y destinada al publico mas infantil y que a ratos puede resultar para los mas mayores un rato cargante, pero hay que entender que este tipo de productos están encaminados a toda la familia pero particularmente a los peques.Seguramente tendremos tercera parte y seguiremos disfrutando de las hazañas de TADEO JONES.',\n",
       " 'Puede que a los niños les guste y emocione.El comienzo parece prometedor, pero poco a poco la historia se desinfla y toda la gracia recae en la momia y el típico tópico del andaluz gracioso y por lo que comprobamos, miope.Sopor.',\n",
       " '“Tadeo Jones 2 (El secreto del Rey Midas)” es más de lo mismo. Pero tanto para lo bueno como para lo malo. Un más de lo mismo al que, por descontado, ya no puedo perdonarle los defectos con la misma facilidad que a su predecesora, “Las aventuras de Tadeo Jones” (Enrique Gato, 2012). No lo hice en “Atrapa la bandera” (Enrique Gato, 2015), así que como para hacerlo ahora.Esta secuela acaba resultando otro sano homenaje del cineasta vallisoletano al cine clásico de aventuras hollywoodiense, más precioso aún en lo visual, al tiempo que más pobre aún en lo narrativo. Por lo que podemos catalogar “Tadeo Jones 2 (El secreto del Rey Midas)” como una segunda entrega con notable déficit de atrevimiento, falta osadía para salir de la zona de confort y se nota. De hecho, iré más lejos. Esta segunda entrega de las aventuras del explorador me hace descubrir que quizás su predecesora poseía más riesgo del que aparentó en su momento.Y es que al final la gran función de “Tadeo Jones 2 (El secreto del Rey Midas)”, además de estirar el éxito del personaje, resulta ser aupar “Las aventuras de Tadeo Jones”. Por ejemplo, de aquella de 2012 me quejé por lo muy de plantilla que eran sus personajes secundarios. Pero viendo, por ejemplo, al villano de esta secuela, compruebo que el de la primera entrega le daba bastantes vueltas aun siendo esquemático. Y lo mismo me sucede con muchas otras decisiones del film, que solo sirven para hacer buenas las de su predecesora.En fin, vemos que le depara el futuro a Tadeo Jones. Comercialmente su éxito es arrollador, pero a nivel cinematográfico sería muy positivo que frenase el claro retroceso mostrado con “Tadeo Jones 2 (El secreto del Rey Midas)”.',\n",
       " 'En esta nueva entrega de las aventuras de Tadeo Jones, podemos apreciar a nuestros personajes favoritos pero esta vez con una pizca más de humor que en la primera parte. Una buena película para disfrutar en familia.',\n",
       " 'No es nada habitual que en el cine de animación española existan secuelas, pero dado el éxito de la primera y el juego aventurero que daba el personaje parecía justificado. Esta vez parece que está gustando más al público y crítica, pero en mi opinión se halla a la misma altura.En la presente, el personaje chistoso que no puede faltar nunca en una cinta animada recae en la momia. Ya tuvo su participación en la anterior película pero muy breve, explotándose sus recursos como muerto viviente cachondo en esta secuela.La historia lleva a Tadeo, sus mascotas, dos chicas (Sara entre ellas) y la momia a varios lugares del mundo destacando a Granada. La representación callejera encaja más bien con un pueblo, pero en los breves planos de la Alhambra se homenajea con maestría al palacio. Podemos apreciar algunas influencias tanto de Hollywood como de Disney, pero en cualquier caso Enrique Gato consigue producir una obra entretenida para todos los públicos. Y no es nada fácil hacerlo por segunda vez con los mismos personajes principales.En resumen, persecuciones a lo Spielberg, malosos que complican las cosas, giros inesperados, humor a raudales y mitos fantásticos que resucitan a un héroe que no se había olvidado y ojalá tenga una tercera parte. La conclusión de esta cinta deja espacios para que pueda desarrollarse.',\n",
       " 'Acabo de ver la segunda parte de Tadeo Jones en sesión matinal con mis dos hijos (6 y 3 años) y salgo más que contento por varios motivos.- Cinco años después, el equipo de Enrique Gato ha conseguido mejorar bastante un producto ya de por sí bueno para el mercado patrio, situándolo ahora al nivel de cualquier película de animación blockbuster internacional.- Los personajes principales y secundarios se han pulido y mejorado. Personalmente, la exuberancia mostrada por el personaje de Sara Lavrof en la primera parte podía ser un aliciente para adultos masculinos, pero creo que estaba de más en películas familiares.- Las referencias/homenajes a todas las películas de Indiana Jones están por todos lados. A unos puede molestarle, pero a mí me han gustado- El sabor a las películas de serie B de aventuras está en cada plano.- Las secuencias en Granada están muy conseguidas trazando una persecución similar a Tintín (2011) cuidando el entorno con mucha calidad. Soy granadino y he reconocido perfectamente Plaza Nueva, Cuesta de Gomérez, la Iglesia de Santa Ana, la carrera del Darro y el Paseo de los Tristes... muchos enclaves perfectamente reconocibles para quien haya estado ahí.En definitiva, el equipo de Enrique Gato ha conseguido mejorar mucho con su segunda parte los resultados de la primera película así que estamos deseando que se pongan manos a la obra con una tercera aventura confiando en que alguna de las secuencias sea en alguna ciudad española.Buena película de animación que si fuera americana seguro que muchos de los que la critican negativamente, la verían con otros ojos.',\n",
       " 'Me ha gustado, se me ha hecho hasta corta. Divertidísima, entretenida, muchos tópicos pero es normal, y la momia es de lo mejor de la película. Así que, diversión garantizada para toda la familia. Recomendable.',\n",
       " 'Una película que he visto en el cine, de aventuras y animación.Dónde la momia de la anterior película ha sido desterrada por ayudarles, y le acompaña en la leyenda del rey Midas.Dónde fue convencido por un trasgo, para curar a su hija que se moría a cambio de una maldición.Para todos los públicos.',\n",
       " 'He visto las dos películas. Tadeo tiene un presupuesto de 9 millones de euros y Coco de mas de 150 millones de dólares. Con Coco, salvo en momentos puntuales, me aburrí bastante.  En cambio con Tadeo me divertí mucho. Los cinco primero minutos de Tadeo son espectaculares y la trama se sigue con interés. En Coco lo único interesante es el giro inesperado del guión  que no voy a desvelar,  por lo demás un derroche innecesario de recursos.',\n",
       " 'Tras el enorme éxito que tuvo la primera entrega no era de extrañar que se hiciera una segunda parte. Sin lugar a dudas es una de las películas de animación más taquilleras del cine español, debido al gran proceso de marketing y por supuesto a la fantástica conexión del público infantil con los personajes.Yo vi la primera película el año que se estrenó porque tenía mucha ganas debido a la gran promoción que se hizo en su momento. Pero tengo que reconocer que aunque no fue muy decepcionante, sí que hay que decir me esperaba mucho más. Así que no tenía muchas ganas de ver esta segunda entrega, pero al final he sucumbido para ver esta nueva aventura de su protagonista.Y es que esta vez Tadeo Jones que busca declararse a la chica que tanto le gusta, se ve inmiscuido en un viaje por diversos países para encontrar el collar del Rey Midas, el cual tenía el poder de convertir en oro todo lo que tocaba el que lo poseía. Un hombre hará todo lo posible por conseguirlo y así tener un gran poder; pero Tadeo Jones y sus amigos intentarán evitar que esto ocurra.Tengo que decir que la película resulta bastante floja. Me imagino que el público infantil disfrutará con esta trama porque está básicamente dirigida para ellos. Pero para el resto de personas les parecerá un film un tanto mediocre del que no se consigue salvar mucho.Sí que cuenta con algunos momentos divertidos; sobre todo los protagonizados por el personaje de la momia que sigue funcionando bastante bien. El resto o son decepcionantes o flojos en calidad; haciendo que uno no muestre mucho interés en lo que se está viendo.Y es que el guión no consigue ser del todo bueno. Uno percibe que todo es un poco forzado para hacer reír, dando un resultado un poco decepcionante.Con respecto al proceso de animación tengo que decir que no me ha llegado a convencer mucho. No digo que sea malo, porque no lo es. Pero tengo el recuerdo de que en la primera entrega era mucho mejor; y aquí el trabajo de informática es un poco más bajo en calidad.En fin, \"Tadeo Jones 2: El secreto del Rey Midas\" obtuvo el Goya a la Mejor Película de Animación en su año; pero o el resto de nominadas eran malas en calidad; o no lo entiendo. Cuenta con algún punto un poco interesante; pero en general es bastante decepcionante. Aun así, creo que es perfecta para el público infantil, que seguro que la disfrutarán.',\n",
       " \"Segunda entrega de ''Tadeo Jones''. Cuando salió la primera nos la vendieron como el no va más, como lo nunca visto y acabó siendo carne de sobremesa. Ahora, unos cuantos años después, nos lanzan la segunda, una entrega que sigue los pasos de su predecesora, pero bajando el nivel en general. Si la original nos dejaba algo claro es que no se puede pagar por un producto como este, a menos que estés acompañado por tus hijos pequeños.La película es demasiado infantil, demasiado previsible en todo lo que ofrece. Esta es la sensación constante que me ha transmitido mientras la veía y dicha sensación no se va en ningún momento. El cine de animación no está destinado exclusivamente a los niños, de hecho algunas obras recientes como ''Toy Story 3'', ''Como entrenar a tu dragón'' o ''Up'', entre otras, lo demuestran. Aquí canta demasiado que el público al que va dirigida es de muy corta edad, ya que todas las bromas o chistes son infantiles a más no poder.La trama consigue entretener, que al fin y al cabo es lo mínimo exigible. Se hace divertida y amena en todo momento, sumándole que su duración, apenas de hora y media, ayuda bastante. Para pasar un rato distraídos puede funcionar bastante bien. Lo malo es que la historia, toda ella, es previsible 100%. Están presentes las típicas ''casualidades'' para que los héroes salgan victoriosos y el desenlace, sin destripar nada, se ve venir a kilómetros de distancia. ¿Tan difícil es proponer algo nuevo y sorprender al público un poquito? Parece que sí.En lo referente a la comedia en sí, la película hace aguas por todas partes. Como decía antes, si tienes menos de 10 años probablemente funcione contigo, pero con el resto de los mortales es un ir y venir de secuencias infantiles elevadas a la máxima potencia. Escenas que, incluso, dan vergüenza ajena. Típicos momentos de dibujos animados, resumiendo. Si estás buscando echarte unas risas esta no es tu película.En resumen ''Tadeo Jones 2: El secreto del Rey Midas'' es una secuela pobre y floja, pero que sigue la estela de la primera, que tampoco era ninguna maravilla. En su favor diré que el apartado técnico, lo visual, está genial y muy cuidado; razón insuficiente como para ponerle una nota alta. Recomendable únicamente para verla con tus hijos si están en la edad adecuada, sino es innecesaria totalmente.Lo mejor: La calidad técnica y a niveles generales se deja ver.Lo peor: Muy previsible, es muy infantil y algunos personajes restan más que suman.* Un 4 bajo *\",\n",
       " 'Pues creo que algo mejor que la primera parte (quizás porque no está Intereconomía jajajaj), no lo sé, pero es algo mejor. La historia muy simple, o quizás muy de los 80, cuando apenas había películas de este tipo… pero hoy en día que ya está muy visto, pues no ofrece nada nuevo.Quizás entretiene, porque visualmente está bien, pero… no hay contenido suficiente para aprobarla.Vista el 27-05-2018',\n",
       " 'Ayer estuve viendo con mis 2 hijos la nueva película de Tadeo Jones. Algo me decía que iba a ser peor que la primera ( que tampoco era nada del otro mundo )En esta me he quedado dormido la mitad del tiempo.Al acabar la película las caras de los espectadores hablaban por si solas. Ni siquiera los niños disfrutaron.  Los dibujos están bien, pero la historia es aburrida a más no poder y la película se hace eterna. Lo único salvable es la momia.',\n",
       " 'Han pasado dos años desde que Enrique Gato estrenara Atrapa la bandera (2015) y cinco desde la primera entrega de la película que ahora nos ocupa, Las aventuras de Tadeo Jones (2012). Ese bonachón personaje que caló hondo en la taquilla española, no solamente entre los pequeños, los mayores también la disfrutamos por igual. Yo la sigo disfrutando cada vez que la revisiono, como si fuera la primera vez. En esta segunda entrega titulada Tadeo Jones 2. El secreto del Rey Midas, los personajes principales que ya están bien definidos, bien conocidos para el gran público, Tadeo, Sara, la momia y las ricuras del perro de Tadeo llamado Jeff y el loro de Sara llamado Belzoni, se han metido en otra nueva y emocionante aventura. Junto a ellos se les une la guapa ayudante de Sara, que creará algunos malentendidos, y un taxista español que llena el hueco dejado por el personaje sudamericano al que puso voz en español el cómico José Mota en el anterior film. Tadeo y compañía se toparán con un nuevo villano con muchas ansias de poder, y que dará mucho juego en la trama. Una animación magnífica, sobre el 3D y sus efectos no puedo decir nada porque la he visto en dos dimensiones, pero visualmente me ha parecido asombrosa y a la misma altura que la primera parte. Incluso más detallista. El humor que no falte en este tipo de películas para toda la familia, sobretodo de la mano del personaje de la momia, con algunas frases con doble sentido. Veo esos toques a lo Indiana Jones, al cine ochentero del rey Midas de Hollywood, el director Steven Spielberg. Yo creo que esta nueva entrega la volverán a disfrutar, y mucho, los más pequeños de la casa, Me ha encantado la incursión de la canción Todo Es Posible, interpretada por David Bisbal junto a Tini Stoessel, y que se puede escuchar en uno de los mejores momentos del metraje. Si os lo pasasteis bien con la anterior, no lo dudéis e id a ver la secuela. Además, su duración es menor que la primera, ochenta y un minutos que se pasan volando. Ojalá tenga mucho éxito en la taquilla, espero con ganas más aventuras de Tadeo Jones. Tadeo Jones de nuevo en acción. Mi nota final es de 9/10.',\n",
       " 'Aunque la primera parte no me terminara de convencer en varios aspectos y fuera al cine esperando un contenido tirando a facilón, me ha sorprendido gratamente encontrar un arco argumental que podría, con pocos arreglos, haber sido una historia de nuestro querido Indy. Un antagonista muy interesante (y que no deja de recordarme a Liam Neeson), del que apenas sabemos nada pero que se muestra implacable, competente y con un trasfondo que deja con ganas de más (¿cómo sabía él lo de Midas? ¿Qué aventuras pasó para obtener su pieza del rompecabezas?).Se agradecen un montón de hilos culturales del que la chavalería (y no tanta chavalería) puede ir tirando (Baal, Apolo, La Alhambra...), aunque sea para solo desmadejar una falta de relación absoluta en la realidad.Cuenta con ritmo frenético que no decae, que desde el minuto cero te mantiene hipnotizado por la pantalla. A ello ayuda además una factura técnica que es todo un paso adelante al avance que ya vimos en «Atrapa la bandera». El aparato sonoro, potente e impecable.Por poner alguna pega, en alguna ocasión las situaciones cómicas me han parecido muy infantiles, pero por motivos evidentes supongo que es más que buscado. También resulta evidente (pese a un doblaje muy correcto) que viéndola en inglés la animación (espectacular en muchas escenas, tanto de acción como expresivas) encajaría mucho mejor a nivel de sincronización labial.En definitiva, cuando sales de la sala con la sensación de que podrías seguir en ese universo un par de horitas más sin problemas, es que algo han hecho muy bien. Espero que una tercera parte me conceda ese deseo.',\n",
       " 'He podido acudir al preestreno de la película. La verdad es que me ha sorprendido gratamente. Esta segunda parte sigue con la impoluta factura técnica de su predecesora, aunque con golpes de humor mucho más acertados; tanto niños como adultos han estallado en carcajadas varias veces. Y todo un mérito levantar un proyecto así en España. ¡Recomendada!']"
      ]
     },
     "execution_count": 15,
     "metadata": {},
     "output_type": "execute_result"
    }
   ],
   "source": [
    "df3['review_text'].tolist()"
   ]
  },
  {
   "cell_type": "code",
   "execution_count": 16,
   "id": "b85d6d15-2d1a-4b3a-a96e-ed687712112b",
   "metadata": {},
   "outputs": [],
   "source": [
    "embeddingsTAdeo = model.encode(df3['review_text'].tolist())"
   ]
  },
  {
   "cell_type": "code",
   "execution_count": 28,
   "id": "ab7e3439-eccc-4b11-8481-ea8d3adcaf2e",
   "metadata": {},
   "outputs": [
    {
     "data": {
      "text/plain": [
       "'l simpático aventurero de producción española da un salto de calidad con una secuela que mejora sustancialmente la primera parte a nivel visual, con una animación más elaborada y detallada, y que también ofrece una historia mucho más divertida y con mejor ritmo en localizaciones tanto exóticas como cercanas.A todo esto hay que sumarle el cambio de secundario chistoso, que esta vez recae en el personaje de \"La Momia\", quien da más juego y tiene más gracia que su predecesor. En definitiva, el director Enrique Gato y su equipo demuestran que aún tienen mucho que contar sobre este aprendiz de arqueólogo y que son capaces de seguir mejorando en el modo de hacerlo. Más mini críticas en cinedepatio.com'"
      ]
     },
     "execution_count": 28,
     "metadata": {},
     "output_type": "execute_result"
    }
   ],
   "source": [
    "df3['review_text'][3237]"
   ]
  },
  {
   "cell_type": "code",
   "execution_count": 29,
   "id": "6ba58b2d-a996-4cee-a034-752284f2c4c0",
   "metadata": {},
   "outputs": [
    {
     "data": {
      "text/plain": [
       "array([ 2.08656508e-02,  1.76260974e-02, -1.99322086e-02, -3.15782689e-02,\n",
       "       -2.67101638e-02, -5.36235934e-03,  4.86004427e-02,  6.34679124e-02,\n",
       "        1.86382346e-02,  6.33155778e-02,  1.27927512e-01, -8.27723816e-02,\n",
       "        2.65719891e-02, -1.76671706e-02,  1.54092759e-02, -9.81137995e-03,\n",
       "        5.64836860e-02,  2.71039847e-02,  5.65599464e-03,  2.63696834e-02,\n",
       "        1.09973341e-01, -1.17674850e-01, -2.01914869e-02,  6.47431165e-02,\n",
       "       -9.78938267e-02,  5.15736267e-02,  1.30423177e-02,  1.36492075e-02,\n",
       "       -1.22715525e-01, -8.97513926e-02, -5.74698634e-02,  1.74350236e-02,\n",
       "        7.63321593e-02, -2.29309648e-02, -2.57971529e-02,  5.02237119e-02,\n",
       "       -4.36911965e-03, -3.96816581e-02, -3.61933894e-02,  7.41332397e-02,\n",
       "       -9.12410766e-02,  4.87461723e-02, -7.59974271e-02, -4.61738110e-02,\n",
       "       -1.66563727e-02, -8.77921134e-02,  7.26263374e-02,  2.07646228e-02,\n",
       "       -3.95855345e-02, -2.94244867e-02, -9.01828706e-02, -5.48267998e-02,\n",
       "       -6.11940548e-02, -2.64543016e-02,  8.99823289e-03,  2.95726135e-02,\n",
       "       -2.53280182e-03, -3.32247280e-02,  7.76879638e-02,  6.64145276e-02,\n",
       "        1.50538012e-02,  6.89691380e-02, -3.25669646e-02,  4.42835689e-02,\n",
       "        4.57396619e-02, -3.86169031e-02,  6.30497113e-02, -7.34744966e-03,\n",
       "       -2.42128335e-02,  2.93395016e-02,  7.50899017e-02, -2.79816650e-02,\n",
       "       -1.04746195e-02,  5.19260019e-02, -4.19912003e-02,  6.61448464e-02,\n",
       "       -3.62592265e-02,  2.76204590e-02, -2.69597210e-02, -1.21808864e-01,\n",
       "        7.31809856e-03,  2.98316013e-02, -1.51271196e-02, -1.04180165e-02,\n",
       "        9.24806111e-03,  3.45741138e-02, -1.47308987e-02, -2.33368818e-02,\n",
       "        3.21875289e-02, -1.36667928e-02,  2.59937476e-02, -1.25934882e-02,\n",
       "       -1.00921597e-02, -3.65473665e-02,  1.50002958e-02, -2.20888704e-02,\n",
       "       -1.35659296e-02, -9.90413278e-02,  5.19444011e-02, -3.59792672e-02,\n",
       "        8.64511281e-02, -3.37985624e-03,  2.09096260e-02,  4.82124239e-02,\n",
       "       -1.46153185e-03, -1.30861616e-02,  8.45601782e-03, -5.63433133e-02,\n",
       "       -3.25701162e-02,  9.12199020e-02, -9.32180583e-02, -1.50981657e-02,\n",
       "       -1.17596142e-01, -1.87764335e-02, -5.10687605e-02,  2.04128306e-02,\n",
       "        3.41458991e-02, -2.86391526e-02,  1.67661496e-02, -6.63093701e-02,\n",
       "        7.62741491e-02, -2.13818830e-02, -1.01946865e-03, -6.07466809e-02,\n",
       "        6.65816963e-02, -6.66235015e-02,  1.10185454e-02,  1.07947270e-32,\n",
       "        1.44362245e-02, -2.13326644e-02,  1.00572370e-02,  7.73679167e-02,\n",
       "        5.93350753e-02,  8.60192850e-02,  2.60823090e-02,  1.01765823e-02,\n",
       "       -1.02481211e-03,  1.55695453e-02, -7.08073527e-02,  4.21066768e-02,\n",
       "       -6.64633289e-02, -9.83254425e-03,  7.14633167e-02,  5.23812920e-02,\n",
       "       -2.89095435e-02, -1.96102653e-02,  4.14619558e-02,  3.49377096e-02,\n",
       "       -8.03688988e-02,  6.13364056e-02,  2.64406524e-04, -8.27405974e-02,\n",
       "        1.21038733e-02,  6.52125478e-02,  7.90976547e-03, -1.91171747e-02,\n",
       "       -9.39518139e-02,  5.68533801e-02, -5.20410389e-02,  4.35098410e-02,\n",
       "        1.31233912e-02, -4.52804305e-02,  1.05201621e-02, -7.70850629e-02,\n",
       "        5.34995571e-02, -9.07118544e-02, -1.24024227e-02,  2.24299040e-02,\n",
       "       -6.38444573e-02, -9.22614336e-03,  6.24486851e-03, -2.07746942e-02,\n",
       "       -2.43825857e-02, -1.58088300e-02,  1.01163648e-01, -1.39187826e-02,\n",
       "        6.54094592e-02,  7.36068636e-02, -2.65538637e-02, -6.59423247e-02,\n",
       "       -5.53720538e-03, -7.04626665e-02, -9.73698404e-03,  9.58167836e-02,\n",
       "       -8.03416446e-02,  2.81218346e-02, -4.17501070e-02, -5.15524708e-02,\n",
       "        1.81822050e-02, -4.73670801e-03,  1.08523741e-02, -6.84436643e-04,\n",
       "       -5.44599891e-02,  2.07342803e-02,  1.74600519e-02,  5.53460270e-02,\n",
       "        9.59337503e-02,  1.52022270e-02, -1.34063795e-01, -2.21981276e-02,\n",
       "       -9.67870206e-02,  2.22443976e-02, -1.09100696e-02,  3.18054482e-02,\n",
       "       -2.28295103e-02,  7.47640878e-02, -3.04158237e-02,  1.38763422e-02,\n",
       "       -2.77954489e-02,  1.03725046e-02,  6.02269582e-02, -1.23043312e-02,\n",
       "        4.62925732e-02,  1.73522998e-02,  7.56382123e-02,  5.89864217e-02,\n",
       "       -2.41988413e-02,  6.97602630e-02,  1.34550240e-02,  6.91642985e-02,\n",
       "        4.06874605e-02, -2.92798877e-03,  5.04468977e-02, -1.50510017e-32,\n",
       "       -2.47475225e-02, -1.70458723e-02,  3.48915532e-02, -2.52891704e-02,\n",
       "       -2.19769254e-02, -9.72635522e-02, -2.69176457e-02, -2.80502439e-02,\n",
       "       -4.59308848e-02, -1.14338040e-01, -1.04162492e-01, -8.14557150e-02,\n",
       "        6.35971203e-02, -7.65271112e-02, -6.14183284e-02,  5.20577021e-02,\n",
       "       -3.95526066e-02, -9.16148648e-02, -6.88743368e-02, -7.13145286e-02,\n",
       "       -1.78860072e-02,  2.24083178e-02, -1.45432614e-02, -9.28537250e-02,\n",
       "       -1.21621834e-02, -1.13961078e-01, -1.47005152e-02,  1.95508245e-02,\n",
       "       -4.25503515e-02, -1.74497664e-02,  5.10519221e-02, -2.75026038e-02,\n",
       "        2.33296789e-02,  5.08319885e-02, -3.09736170e-02, -3.13215479e-02,\n",
       "        3.02367881e-02, -6.01970311e-03,  2.97379456e-02,  3.55717391e-02,\n",
       "       -1.77031346e-02,  3.74968313e-02,  5.63318878e-02, -2.24491302e-02,\n",
       "       -4.17536609e-02,  2.18418408e-02,  5.56562655e-02, -1.51994899e-01,\n",
       "       -2.92737316e-02, -1.64790843e-02,  2.16262154e-02, -1.04027301e-01,\n",
       "       -3.47700268e-02, -2.14336347e-03,  2.33967174e-02, -4.24035154e-02,\n",
       "       -1.11885946e-02, -6.92015886e-02, -2.15755701e-02,  4.49483730e-02,\n",
       "        6.60673156e-02,  2.58472525e-02, -1.37501478e-01, -6.28147945e-02,\n",
       "        2.20635161e-02,  9.14037134e-03, -6.64519146e-02, -2.79354006e-02,\n",
       "       -1.12501634e-02,  1.24243759e-02,  1.20499350e-01, -8.91064331e-02,\n",
       "       -1.01559289e-01,  2.56982003e-03, -1.17758075e-02, -4.02575620e-02,\n",
       "       -4.84706499e-02,  4.89081442e-02,  2.88035385e-02,  7.86617845e-02,\n",
       "        1.97170228e-02, -1.93780824e-03, -2.45998451e-03, -6.70564845e-02,\n",
       "        1.73947699e-02,  2.88704429e-02, -5.66461310e-02,  4.41576727e-02,\n",
       "        2.73966193e-02,  2.52922159e-02, -1.71382483e-02,  1.29292235e-02,\n",
       "       -5.61266951e-02, -1.31234508e-02, -2.37915423e-02, -6.43902567e-08,\n",
       "       -5.90119220e-04, -2.69413237e-02,  5.20929806e-02, -5.64062111e-02,\n",
       "        2.18791850e-02, -9.69457403e-02, -1.68618280e-02,  1.79464407e-02,\n",
       "        3.84705677e-03,  9.64336935e-03,  5.27621061e-03,  6.52253255e-03,\n",
       "       -3.59745584e-02,  1.05684837e-02,  1.53971836e-02, -1.95794329e-02,\n",
       "        1.24573737e-01,  8.30743015e-02, -1.23666786e-02,  3.75499539e-02,\n",
       "        7.64674470e-02, -1.97978392e-02, -2.38124188e-02, -2.49956604e-02,\n",
       "       -9.37511586e-03,  6.55059516e-03, -5.80883995e-02,  1.29463160e-02,\n",
       "       -5.82398698e-02,  9.00454968e-02, -1.75538398e-02,  1.33586358e-02,\n",
       "        2.73466446e-02, -7.52331540e-02, -7.10924789e-02, -5.95421009e-02,\n",
       "       -4.26262198e-03,  3.90747339e-02,  9.18071531e-03, -5.04596159e-02,\n",
       "        1.10871136e-01, -5.02085453e-03, -1.00464756e-02,  3.08640413e-02,\n",
       "        3.31784002e-02, -3.09088882e-02, -4.83988272e-03, -3.57401706e-02,\n",
       "       -2.06223521e-02,  6.52385056e-02, -7.13653713e-02, -5.35519533e-02,\n",
       "        9.76301171e-03,  4.32185195e-02,  3.68864834e-02, -7.38276392e-02,\n",
       "        8.23829249e-02,  5.66700064e-02, -3.29116099e-02,  1.61927436e-02,\n",
       "        6.61667138e-02,  5.83221316e-02,  7.91100319e-03, -3.67622375e-02],\n",
       "      dtype=float32)"
      ]
     },
     "execution_count": 29,
     "metadata": {},
     "output_type": "execute_result"
    }
   ],
   "source": [
    "embeddingsTAdeo[1]"
   ]
  }
 ],
 "metadata": {
  "kernelspec": {
   "display_name": "Python 3.12 Deep Learning",
   "language": "python",
   "name": "deep"
  },
  "language_info": {
   "codemirror_mode": {
    "name": "ipython",
    "version": 3
   },
   "file_extension": ".py",
   "mimetype": "text/x-python",
   "name": "python",
   "nbconvert_exporter": "python",
   "pygments_lexer": "ipython3",
   "version": "3.12.9"
  }
 },
 "nbformat": 4,
 "nbformat_minor": 5
}
